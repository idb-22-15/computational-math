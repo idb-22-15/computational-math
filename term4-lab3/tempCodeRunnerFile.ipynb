from typing import List, Callable, Union, Tuple

import numpy as np


'''
В данном коде `dy_dx` - это функция, представляющая дифференциальное уравнение в виде `dy/dx = f(x, y)`.
Функция `runge_kutta_4th_order` принимает эту функцию, начальное значение `y0`, границы интервала `a` и `b`, а также шаг `h` интегрирования.
Метод возвращает список значений `y` на каждом шаге.

'''

def rk4(f: Callable[[float, np.ndarray], np.ndarray], a: float, b: float, y0: np.ndarray, n: int) -> Tuple[np.ndarray, np.ndarray]:
    m = len(y0)
    h = (b - a) / n
    x = np.linspace(a + h, b, n)
    y = np.zeros((n, m))
    
    k1 = h * f(a, y0)
    k2 = h * f(a + h/2, y0 + k1/2)
    k3 = h * f(a + h/2, y0 + k2/2)
    k4 = h * f(a + h, y0 + k3)
    
    y[0, :] = y0 + k1/6 + k2/3 + k3/3 + k4/6
    
    for i in range(n - 1):
        k1 = h * f(x[i], y[i, :])
        k2 = h * f(x[i] + h/2, y[i, :] + k1/2)
        k3 = h * f(x[i] + h/2, y[i, :] + k2/2)
        k4 = h * f(x[i] + h, y[i, :] + k3)
        y[i + 1, :] = y[i, :] + k1/6 + k2/3 + k3/3 + k4/6
    
    x = np.concatenate(([a], x))
    y = np.concatenate((y0.reshape(1, m), y))
    
    return x, y


H = 500 # грубина
rho0 = 1000
rho1 = 750
g = 9.8
S = 155 # площадь поперечного сечения
l = 100.5
V = S*l
alpha = 0.01
eta = 0.001
v = 25
k = S / l


# Функция для системы уравнений
def submarine_sys(t: float, y: np.ndarray) -> np.ndarray:
    dy: float = y[1]
    dz: float = -(eta*k / (V*rho1)) * (1 + alpha*y[0]/H)*dy + g*(rho0/rho1-1)
    return np.array([dy, dz])

# Начальные условия
y0: np.ndarray = np.array([-H, 0])
a: float = 0
b: float = 100
n: int = 300

# Решение системы дифференциальных уравнений
solution: Tuple[np.ndarray, np.ndarray] = rk4(submarine_sys, a, b, y0, n)

# Убираем значения, где y1 >= 0
solution_x: np.ndarray = solution[0][solution[1][:, 0] <= 0]
solution_y: np.ndarray = solution[1][solution[1][:, 0] <= 0]
