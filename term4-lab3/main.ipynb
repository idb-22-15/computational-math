{
 "cells": [
  {
   "cell_type": "markdown",
   "metadata": {},
   "source": [
    "### ЛАБОРАТОРНАЯ РАБОТА №3. ВСПЛЫТИЕ ПОДВОДНОЙ ЛОДКИ\n",
    "**Цель работы**: изучить методы численного дифференцирования для\n",
    "решения системы обыкновенных дифференциальных уравнений и применить их\n",
    "на практике для решения практической задачи (определения траектории и точки\n",
    "всплытия подводной лодки).\n",
    "\n"
   ]
  },
  {
   "cell_type": "code",
   "execution_count": 4,
   "metadata": {},
   "outputs": [
    {
     "name": "stdout",
     "output_type": "stream",
     "text": [
      "x values: [0.  0.1 0.2 0.3 0.4 0.5 0.6 0.7 0.8 0.9 1. ]\n",
      "y values:\n",
      "[[ 1.  -1. ]\n",
      " [ 1.1 -1.1]\n",
      " [ 1.2 -1.2]\n",
      " [ 1.3 -1.3]\n",
      " [ 1.4 -1.4]\n",
      " [ 1.5 -1.5]\n",
      " [ 1.6 -1.6]\n",
      " [ 1.7 -1.7]\n",
      " [ 1.8 -1.8]\n",
      " [ 1.9 -1.9]\n",
      " [ 2.  -2. ]]\n"
     ]
    }
   ],
   "source": [
    "from typing import List, Callable, Union, Tuple\n",
    "\n",
    "import numpy as np\n",
    "\n",
    "nu = 0.001\n",
    "po = 1000\n",
    "g = 9.8\n",
    "alpha = 0.01\n",
    "\n",
    "V = 1\n",
    "S = 1\n",
    "l = 1\n",
    "H = -1000\n",
    "po1 = 1\n",
    "v = 1\n",
    "\n",
    "h = 0.001 * - H\n",
    "\n",
    "\n",
    "'''\n",
    "В данном коде `dy_dx` - это функция, представляющая дифференциальное уравнение в виде `dy/dx = f(x, y)`.\n",
    "Функция `runge_kutta_4th_order` принимает эту функцию, начальное значение `y0`, границы интервала `a` и `b`, а также шаг `h` интегрирования.\n",
    "Метод возвращает список значений `y` на каждом шаге.\n",
    "\n",
    "'''\n",
    "\n",
    "def runge_kutta4(f: Callable[[float, np.ndarray], np.ndarray], a: float, b: float, y0: np.ndarray, n: int) -> Tuple[np.ndarray, np.ndarray]:\n",
    "    m = len(y0)\n",
    "    h = (b - a) / n\n",
    "    x = np.linspace(a + h, b, n)\n",
    "    y = np.zeros((n, m))\n",
    "    \n",
    "    k1 = h * f(a, y0)\n",
    "    k2 = h * f(a + h/2, y0 + k1/2)\n",
    "    k3 = h * f(a + h/2, y0 + k2/2)\n",
    "    k4 = h * f(a + h, y0 + k3)\n",
    "    \n",
    "    y[0, :] = y0 + k1/6 + k2/3 + k3/3 + k4/6\n",
    "    \n",
    "    for i in range(n - 1):\n",
    "        k1 = h * f(x[i], y[i, :])\n",
    "        k2 = h * f(x[i] + h/2, y[i, :] + k1/2)\n",
    "        k3 = h * f(x[i] + h/2, y[i, :] + k2/2)\n",
    "        k4 = h * f(x[i] + h, y[i, :] + k3)\n",
    "        y[i + 1, :] = y[i, :] + k1/6 + k2/3 + k3/3 + k4/6\n",
    "    \n",
    "    x = np.concatenate(([a], x))\n",
    "    y = np.concatenate((y0.reshape(1, m), y))\n",
    "    \n",
    "    return x, y\n",
    "\n",
    "# Пример использования\n",
    "def f(x, y):\n",
    "    return np.array([y[0] - x, y[1] + x])\n",
    "\n",
    "a, b = 0, 1\n",
    "y0 = np.array([1, -1])\n",
    "n = 10\n",
    "\n",
    "x_result, y_result = runge_kutta4(f, a, b, y0, n)\n",
    "print(\"x values:\", x_result)\n",
    "print(\"y values:\")\n",
    "print(y_result)"
   ]
  }
 ],
 "metadata": {
  "kernelspec": {
   "display_name": "Python 3",
   "language": "python",
   "name": "python3"
  },
  "language_info": {
   "codemirror_mode": {
    "name": "ipython",
    "version": 3
   },
   "file_extension": ".py",
   "mimetype": "text/x-python",
   "name": "python",
   "nbconvert_exporter": "python",
   "pygments_lexer": "ipython3",
   "version": "3.11.7"
  }
 },
 "nbformat": 4,
 "nbformat_minor": 2
}
